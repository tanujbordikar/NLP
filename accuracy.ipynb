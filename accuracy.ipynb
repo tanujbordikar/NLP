{
 "cells": [
  {
   "cell_type": "code",
   "execution_count": 24,
   "id": "8a5803de",
   "metadata": {},
   "outputs": [],
   "source": [
    "from sklearn.model_selection import cross_val_score\n",
    "from sklearn.tree import DecisionTreeClassifier\n",
    "from sklearn import datasets"
   ]
  },
  {
   "cell_type": "code",
   "execution_count": 25,
   "id": "d5c0314b",
   "metadata": {},
   "outputs": [],
   "source": [
    "Wine = datasets.load_wine()\n",
    "X = Wine.data\n",
    "y = Wine.target"
   ]
  },
  {
   "cell_type": "code",
   "execution_count": 31,
   "id": "bc2f084a",
   "metadata": {},
   "outputs": [
    {
     "name": "stdout",
     "output_type": "stream",
     "text": [
      "\n",
      "[0.92307692 0.80769231 0.80769231 0.88       0.88       0.88\n",
      " 0.8       ]\n",
      "Mean score:\n",
      "0.8654945054945055\n",
      "Standard score:\n",
      "0.06573817052796804\n"
     ]
    }
   ],
   "source": [
    "dtree = DecisionTreeClassifier()\n",
    "print(); print(cross_val_score(dtree, X, y, scoring=\"accuracy\", cv = 7))\n",
    "mean_score = cross_val_score(dtree, X, y, scoring=\"accuracy\", cv = 7).mean()\n",
    "std_score = cross_val_score(dtree, X, y, scoring=\"accuracy\", cv = 7).std()\n",
    "print(\"Mean score:\")\n",
    "print(mean_score)\n",
    "print(\"Standard score:\")\n",
    "print(std_score)"
   ]
  },
  {
   "cell_type": "code",
   "execution_count": null,
   "id": "d97600c1",
   "metadata": {},
   "outputs": [],
   "source": []
  }
 ],
 "metadata": {
  "kernelspec": {
   "display_name": "Python 3 (ipykernel)",
   "language": "python",
   "name": "python3"
  },
  "language_info": {
   "codemirror_mode": {
    "name": "ipython",
    "version": 3
   },
   "file_extension": ".py",
   "mimetype": "text/x-python",
   "name": "python",
   "nbconvert_exporter": "python",
   "pygments_lexer": "ipython3",
   "version": "3.9.12"
  }
 },
 "nbformat": 4,
 "nbformat_minor": 5
}
